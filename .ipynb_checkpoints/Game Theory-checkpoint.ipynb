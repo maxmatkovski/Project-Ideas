{
 "cells": [
  {
   "cell_type": "markdown",
   "id": "18b9256d",
   "metadata": {},
   "source": [
    "# Game Theory\n"
   ]
  },
  {
   "cell_type": "code",
   "execution_count": 2,
   "id": "e2f11027",
   "metadata": {},
   "outputs": [
    {
     "name": "stdout",
     "output_type": "stream",
     "text": [
      "Collecting nashpy\n",
      "  Downloading nashpy-0.0.35-py3-none-any.whl (25 kB)\n",
      "Collecting numpy>=1.21.0\n",
      "  Downloading numpy-1.23.5-cp38-cp38-win_amd64.whl (14.7 MB)\n",
      "Requirement already satisfied: scipy>=0.19.0 in c:\\users\\maxma\\anaconda3\\lib\\site-packages (from nashpy) (1.6.2)\n",
      "  Downloading numpy-1.22.4-cp38-cp38-win_amd64.whl (14.8 MB)\n",
      "Installing collected packages: numpy, nashpy\n",
      "  Attempting uninstall: numpy\n",
      "    Found existing installation: numpy 1.20.1\n",
      "    Uninstalling numpy-1.20.1:\n",
      "      Successfully uninstalled numpy-1.20.1\n",
      "Successfully installed nashpy-0.0.35 numpy-1.22.4\n"
     ]
    }
   ],
   "source": [
    "# install nashpy\n",
    "\n",
    "!pip install nashpy"
   ]
  },
  {
   "cell_type": "code",
   "execution_count": 3,
   "id": "6a0c4225",
   "metadata": {},
   "outputs": [],
   "source": [
    "import nashpy as nash"
   ]
  },
  {
   "cell_type": "code",
   "execution_count": 4,
   "id": "d6c850f1",
   "metadata": {},
   "outputs": [
    {
     "data": {
      "text/plain": [
       "'0.0.35'"
      ]
     },
     "execution_count": 4,
     "metadata": {},
     "output_type": "execute_result"
    }
   ],
   "source": [
    "nash.__version__"
   ]
  },
  {
   "cell_type": "code",
   "execution_count": 5,
   "id": "a9fd2a71",
   "metadata": {},
   "outputs": [],
   "source": [
    "A = [[3,1], [0,2]]\n",
    "B = [[2,1], [0,3]]\n",
    "battle_of_the_sexes = nash.Game(A, B)"
   ]
  },
  {
   "cell_type": "code",
   "execution_count": 6,
   "id": "372f6838",
   "metadata": {},
   "outputs": [
    {
     "data": {
      "text/plain": [
       "Bi matrix game with payoff matrices:\n",
       "\n",
       "Row player:\n",
       "[[3 1]\n",
       " [0 2]]\n",
       "\n",
       "Column player:\n",
       "[[2 1]\n",
       " [0 3]]"
      ]
     },
     "execution_count": 6,
     "metadata": {},
     "output_type": "execute_result"
    }
   ],
   "source": [
    "battle_of_the_sexes"
   ]
  },
  {
   "cell_type": "code",
   "execution_count": 9,
   "id": "9b21aeb8",
   "metadata": {},
   "outputs": [],
   "source": [
    "# matching pennies\n",
    "A = [[1,-1],[-1,1]]\n",
    "B = [[-1,1],[1,-1]]\n",
    "\n",
    "matching_pennies = nash.Game(A,B)"
   ]
  },
  {
   "cell_type": "code",
   "execution_count": 10,
   "id": "9947f9d7",
   "metadata": {},
   "outputs": [
    {
     "data": {
      "text/plain": [
       "Zero sum game with payoff matrices:\n",
       "\n",
       "Row player:\n",
       "[[ 1 -1]\n",
       " [-1  1]]\n",
       "\n",
       "Column player:\n",
       "[[-1  1]\n",
       " [ 1 -1]]"
      ]
     },
     "execution_count": 10,
     "metadata": {},
     "output_type": "execute_result"
    }
   ],
   "source": [
    "matching_pennies"
   ]
  },
  {
   "cell_type": "code",
   "execution_count": null,
   "id": "d3f16617",
   "metadata": {},
   "outputs": [],
   "source": []
  }
 ],
 "metadata": {
  "kernelspec": {
   "display_name": "Python 3 (ipykernel)",
   "language": "python",
   "name": "python3"
  },
  "language_info": {
   "codemirror_mode": {
    "name": "ipython",
    "version": 3
   },
   "file_extension": ".py",
   "mimetype": "text/x-python",
   "name": "python",
   "nbconvert_exporter": "python",
   "pygments_lexer": "ipython3",
   "version": "3.8.8"
  }
 },
 "nbformat": 4,
 "nbformat_minor": 5
}
