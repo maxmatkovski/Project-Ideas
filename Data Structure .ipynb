{
 "cells": [
  {
   "cell_type": "code",
   "execution_count": 1,
   "id": "8afc2977",
   "metadata": {},
   "outputs": [],
   "source": [
    "array = []\n",
    "for i in range(5):\n",
    "    array.append(i)"
   ]
  },
  {
   "cell_type": "code",
   "execution_count": 2,
   "id": "51c46850",
   "metadata": {},
   "outputs": [
    {
     "name": "stdout",
     "output_type": "stream",
     "text": [
      "0\n",
      "1\n",
      "2\n",
      "3\n",
      "4\n"
     ]
    }
   ],
   "source": [
    "for i in range(len(array)):\n",
    "    print(array[i])"
   ]
  },
  {
   "cell_type": "code",
   "execution_count": 3,
   "id": "12a0bf71",
   "metadata": {},
   "outputs": [
    {
     "name": "stdout",
     "output_type": "stream",
     "text": [
      "(0, 1, 2, 3, 4)\n"
     ]
    }
   ],
   "source": [
    "Tuple = tuple(array)\n",
    "print(Tuple)"
   ]
  },
  {
   "cell_type": "code",
   "execution_count": 4,
   "id": "e6726869",
   "metadata": {},
   "outputs": [
    {
     "name": "stdout",
     "output_type": "stream",
     "text": [
      "{0, 1, 2, 3, 4}\n"
     ]
    }
   ],
   "source": [
    "Set = set(Tuple)\n",
    "print(Set)"
   ]
  },
  {
   "cell_type": "code",
   "execution_count": 5,
   "id": "81c97ddc",
   "metadata": {},
   "outputs": [
    {
     "data": {
      "text/plain": [
       "5"
      ]
     },
     "execution_count": 5,
     "metadata": {},
     "output_type": "execute_result"
    }
   ],
   "source": [
    "len(Set)"
   ]
  },
  {
   "cell_type": "code",
   "execution_count": 6,
   "id": "a07c4bce",
   "metadata": {},
   "outputs": [],
   "source": [
    "Set.add(6)"
   ]
  },
  {
   "cell_type": "code",
   "execution_count": 7,
   "id": "2c579413",
   "metadata": {},
   "outputs": [
    {
     "data": {
      "text/plain": [
       "{0, 1, 2, 3, 4, 6}"
      ]
     },
     "execution_count": 7,
     "metadata": {},
     "output_type": "execute_result"
    }
   ],
   "source": [
    "Set"
   ]
  },
  {
   "cell_type": "code",
   "execution_count": 8,
   "id": "0b9f98f8",
   "metadata": {},
   "outputs": [],
   "source": [
    "List = []"
   ]
  },
  {
   "cell_type": "code",
   "execution_count": 10,
   "id": "dd04872a",
   "metadata": {},
   "outputs": [
    {
     "data": {
      "text/plain": [
       "[0, 1]"
      ]
     },
     "execution_count": 10,
     "metadata": {},
     "output_type": "execute_result"
    }
   ],
   "source": [
    "List.append(0)\n",
    "List.append(1)\n",
    "List"
   ]
  },
  {
   "cell_type": "code",
   "execution_count": null,
   "id": "5a9e7587",
   "metadata": {},
   "outputs": [],
   "source": [
    "Diciton"
   ]
  },
  {
   "cell_type": "code",
   "execution_count": null,
   "id": "81b99ecc",
   "metadata": {},
   "outputs": [],
   "source": []
  },
  {
   "cell_type": "code",
   "execution_count": null,
   "id": "8f5179ef",
   "metadata": {},
   "outputs": [],
   "source": []
  }
 ],
 "metadata": {
  "kernelspec": {
   "display_name": "Python 3 (ipykernel)",
   "language": "python",
   "name": "python3"
  },
  "language_info": {
   "codemirror_mode": {
    "name": "ipython",
    "version": 3
   },
   "file_extension": ".py",
   "mimetype": "text/x-python",
   "name": "python",
   "nbconvert_exporter": "python",
   "pygments_lexer": "ipython3",
   "version": "3.8.8"
  }
 },
 "nbformat": 4,
 "nbformat_minor": 5
}
